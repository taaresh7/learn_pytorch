{
 "cells": [
  {
   "cell_type": "code",
   "execution_count": 57,
   "id": "2e884895",
   "metadata": {},
   "outputs": [
    {
     "data": {
      "text/plain": [
       "'1.13.1+cu117'"
      ]
     },
     "execution_count": 57,
     "metadata": {},
     "output_type": "execute_result"
    }
   ],
   "source": [
    "import torch \n",
    "import numpy as np \n",
    "import matplotlib.pyplot as plt\n",
    "from pathlib import Path\n",
    "from torch import nn\n",
    "plt.rcParams['figure.figsize'] = [5,3]\n",
    "torch.__version__  # cuda 11.7"
   ]
  },
  {
   "cell_type": "code",
   "execution_count": 58,
   "id": "0cc92b38",
   "metadata": {},
   "outputs": [
    {
     "data": {
      "text/plain": [
       "'cuda'"
      ]
     },
     "execution_count": 58,
     "metadata": {},
     "output_type": "execute_result"
    }
   ],
   "source": [
    "device = 'cuda' if torch.cuda.is_available() else 'cpu' \n",
    "device "
   ]
  },
  {
   "cell_type": "markdown",
   "id": "cf1c02e6",
   "metadata": {},
   "source": [
    "### Create Regression Dataset"
   ]
  },
  {
   "cell_type": "code",
   "execution_count": 59,
   "id": "e611afde",
   "metadata": {},
   "outputs": [
    {
     "data": {
      "text/plain": [
       "(torch.Size([100, 1]), torch.Size([100, 1]))"
      ]
     },
     "execution_count": 59,
     "metadata": {},
     "output_type": "execute_result"
    }
   ],
   "source": [
    "weight = 0.7\n",
    "bias = 0.3\n",
    "\n",
    "np.random.seed(42)\n",
    "torch.cuda.manual_seed(42)\n",
    "\n",
    "X = torch.rand(100).unsqueeze(dim = 1)\n",
    "\n",
    "# true relationship\n",
    "y = X*weight + bias + np.random.normal(scale=0.01,size = X.shape[0]).reshape(-1,1)\n",
    "\n",
    "X.shape, y.shape"
   ]
  },
  {
   "cell_type": "markdown",
   "id": "c962776f",
   "metadata": {},
   "source": [
    "### Split into train and test data"
   ]
  },
  {
   "cell_type": "code",
   "execution_count": 60,
   "id": "8f5e682e",
   "metadata": {},
   "outputs": [],
   "source": [
    "train_size = 0.8 # 80-20 split\n",
    "\n",
    "np.random.seed(42)\n",
    "\n",
    "indices = np.arange(X.shape[0])  # create and shuffle indices\n",
    "np.random.shuffle(indices)\n",
    "\n",
    "# divide train and test index\n",
    "train_index, test_index =  indices[:int(len(indices)*0.8)] , indices[int(len(indices)*0.8):]\n",
    "\n",
    "# slice X and y \n",
    "X_train, X_test = X[train_index], X[test_index]\n",
    "y_train , y_test = y[train_index], y[test_index]"
   ]
  },
  {
   "cell_type": "code",
   "execution_count": 61,
   "id": "abf2b435",
   "metadata": {},
   "outputs": [
    {
     "data": {
      "text/plain": [
       "(torch.Size([80, 1]), torch.Size([80, 1]))"
      ]
     },
     "execution_count": 61,
     "metadata": {},
     "output_type": "execute_result"
    }
   ],
   "source": [
    "X_train.shape, y_train.shape"
   ]
  },
  {
   "cell_type": "code",
   "execution_count": 62,
   "id": "1a82e430",
   "metadata": {},
   "outputs": [
    {
     "data": {
      "image/png": "[encoded data removed]",
      "text/plain": [
       "<Figure size 500x300 with 1 Axes>"
      ]
     },
     "metadata": {},
     "output_type": "display_data"
    }
   ],
   "source": [
    "plt.scatter(X_train, y_train, label = 'Train', s= 15)\n",
    "plt.scatter(X_test, y_test, c='r', label = 'Test', s= 15)\n",
    "plt.xlabel('X train')\n",
    "plt.ylabel('y train')\n",
    "plt.title('Scatter plot')\n",
    "plt.legend()\n",
    "plt.show()"
   ]
  },
  {
   "cell_type": "markdown",
   "id": "9ac3d1f3",
   "metadata": {},
   "source": [
    "### Build a Model "
   ]
  },
  {
   "cell_type": "code",
   "execution_count": 63,
   "id": "b14be032",
   "metadata": {},
   "outputs": [],
   "source": [
    "# define model \n",
    "class LinearRegression(nn.Module):\n",
    "    def __init__(self):\n",
    "        super().__init__()\n",
    "        \n",
    "        # defining using the parameter method \n",
    "        self.weight = torch.nn.Parameter(torch.rand(1, device = device, requires_grad=True))\n",
    "        self.bias = torch.nn.Parameter(torch.rand(1, device = device, requires_grad=True))\n",
    "    \n",
    "    def forward(self, X: torch.Tensor):\n",
    "        # forward is like prediction \n",
    "        return X*self.weight + bias "
   ]
  },
  {
   "cell_type": "code",
   "execution_count": 64,
   "id": "1477f0bc",
   "metadata": {},
   "outputs": [],
   "source": [
    "torch.manual_seed(42)\n",
    "model_0 = LinearRegression()"
   ]
  },
  {
   "cell_type": "code",
   "execution_count": 65,
   "id": "9f842f15",
   "metadata": {},
   "outputs": [
    {
     "data": {
      "text/plain": [
       "OrderedDict([('weight', tensor([0.6130], device='cuda:0')),\n",
       "             ('bias', tensor([0.9877], device='cuda:0'))])"
      ]
     },
     "execution_count": 65,
     "metadata": {},
     "output_type": "execute_result"
    }
   ],
   "source": [
    "# current weights\n",
    "model_0.state_dict()"
   ]
  },
  {
   "cell_type": "markdown",
   "id": "b2b8769c",
   "metadata": {},
   "source": [
    "### Define loss function and optimizer"
   ]
  },
  {
   "cell_type": "code",
   "execution_count": 66,
   "id": "839bab35",
   "metadata": {},
   "outputs": [],
   "source": [
    "optimizer = torch.optim.SGD(model_0.parameters(), lr=0.01)\n",
    "loss_fn = nn.L1Loss()"
   ]
  },
  {
   "cell_type": "markdown",
   "id": "62dcf3e5",
   "metadata": {},
   "source": [
    "### Train and Test loop "
   ]
  },
  {
   "cell_type": "code",
   "execution_count": 67,
   "id": "af5ea75a",
   "metadata": {},
   "outputs": [
    {
     "name": "stdout",
     "output_type": "stream",
     "text": [
      "0 0.04440018976322869 0.03364001652653683\n",
      "5 0.031423756597321155 0.02295812770999341\n",
      "10 0.018861121796146508 0.014888924526562448\n",
      "15 0.008967445245053555 0.009698136317124123\n",
      "20 0.0066953282095096635 0.009486060792024603\n",
      "25 0.006536915333774926 0.009874529000685568\n",
      "30 0.006535221136774952 0.009882066008017415\n",
      "35 0.006535192079510624 0.00988961046592986\n",
      "40 0.006535161904659206 0.009897148963377829\n",
      "45 0.00653512874957555 0.009904685970709676\n",
      "50 0.006535102300014431 0.00991223191873824\n",
      "55 0.006535071007575924 0.009919773396418446\n",
      "60 0.0065350412052535365 0.009927305933401936\n",
      "65 0.006535011402931149 0.009934848901198263\n",
      "70 0.00653498532589906 0.009942387398646231\n",
      "75 0.0065350624394082376 0.009921591338084096\n",
      "80 0.006535035244789059 0.009929135795996542\n",
      "85 0.006535002462234433 0.00993667429344451\n",
      "90 0.0065350552995888074 0.009915882703230733\n",
      "95 0.00653505834158891 0.009923421200678701\n"
     ]
    }
   ],
   "source": [
    "train_loss = []\n",
    "test_loss = []\n",
    "epochs = 100\n",
    "\n",
    "X_train = X_train.to(device)\n",
    "y_train = y_train.to(device)\n",
    "X_test = X_test.to(device)\n",
    "y_test = y_test.to(device)\n",
    "\n",
    "for epoch in range(epochs):\n",
    "    \n",
    "    model_0.train()\n",
    "    \n",
    "    pred = model_0(X_train)\n",
    "    \n",
    "    loss = loss_fn(y_train, pred)\n",
    "    \n",
    "    train_loss.append(loss.item())\n",
    "    optimizer.zero_grad()\n",
    "\n",
    "    loss.backward()\n",
    "    \n",
    "    optimizer.step()\n",
    "    \n",
    "    model_0.eval() \n",
    "    with torch.inference_mode():\n",
    "        pred_te = model_0(X_test)\n",
    "        loss_te = loss_fn(y_test, pred_te)\n",
    "        test_loss.append(loss_te.item())\n",
    "    \n",
    "        \n",
    "    if epoch%5 ==0:\n",
    "        print(epoch , loss.item(), loss_te.item())\n",
    "    "
   ]
  },
  {
   "cell_type": "code",
   "execution_count": 68,
   "id": "6766d6b7",
   "metadata": {},
   "outputs": [
    {
     "data": {
      "image/png": "[encoded data removed]",
      "text/plain": [
       "<Figure size 500x300 with 1 Axes>"
      ]
     },
     "metadata": {},
     "output_type": "display_data"
    }
   ],
   "source": [
    "plt.plot(list(range(epochs)), test_loss, label = 'test')\n",
    "plt.plot(list(range(epochs)), train_loss, label = 'train')\n",
    "plt.legend()\n",
    "plt.show()"
   ]
  },
  {
   "cell_type": "markdown",
   "id": "401fd4a5",
   "metadata": {},
   "source": [
    "#### Check tuned weights "
   ]
  },
  {
   "cell_type": "code",
   "execution_count": 69,
   "id": "77d167c1",
   "metadata": {},
   "outputs": [
    {
     "data": {
      "text/plain": [
       "OrderedDict([('weight', tensor([0.6997], device='cuda:0')),\n",
       "             ('bias', tensor([0.9877], device='cuda:0'))])"
      ]
     },
     "execution_count": 69,
     "metadata": {},
     "output_type": "execute_result"
    }
   ],
   "source": [
    "model_0.state_dict()"
   ]
  },
  {
   "cell_type": "markdown",
   "id": "48e480ff",
   "metadata": {},
   "source": [
    "### Prediction"
   ]
  },
  {
   "cell_type": "code",
   "execution_count": 70,
   "id": "8d3c6b33",
   "metadata": {},
   "outputs": [],
   "source": [
    "model_0.eval()\n",
    "with torch.inference_mode():\n",
    "    t_pred = model_0(X_test.to(device))"
   ]
  },
  {
   "cell_type": "code",
   "execution_count": 71,
   "id": "df341ddd",
   "metadata": {},
   "outputs": [
    {
     "data": {
      "image/png": "[encoded data removed]",
      "text/plain": [
       "<Figure size 500x300 with 1 Axes>"
      ]
     },
     "metadata": {},
     "output_type": "display_data"
    }
   ],
   "source": [
    "plt.scatter(X_train.cpu(), y_train.cpu(), alpha = 0.8,c ='pink', label='True Train Labels')\n",
    "plt.scatter(X_test.cpu(), y_test.cpu(), alpha = 0.5,c ='r', label='True Test Labels')\n",
    "plt.scatter(X_test.cpu(), t_pred.detach().cpu(),c='b', alpha = 0.5, label = 'Predicted Test Labels')\n",
    "plt.legend()\n",
    "plt.xlabel('X')\n",
    "plt.ylabel('y')\n",
    "plt.title('Scatter Plot')\n",
    "plt.show()"
   ]
  },
  {
   "cell_type": "markdown",
   "id": "3c809432",
   "metadata": {},
   "source": [
    "### Saving and loading the model"
   ]
  },
  {
   "cell_type": "code",
   "execution_count": 72,
   "id": "5e3b3487",
   "metadata": {},
   "outputs": [
    {
     "name": "stdout",
     "output_type": "stream",
     "text": [
      "Saving model to: models\\model_0.pth\n"
     ]
    }
   ],
   "source": [
    "from pathlib import Path\n",
    "\n",
    "# Create models directory \n",
    "MODEL_PATH = Path(\"models\")\n",
    "MODEL_PATH.mkdir(parents=True, exist_ok=True)\n",
    "\n",
    "# Create model save path \n",
    "MODEL_NAME = \"model_0.pth\"\n",
    "MODEL_SAVE_PATH = MODEL_PATH / MODEL_NAME\n",
    "\n",
    "# Save the model state dict \n",
    "print(f\"Saving model to: {MODEL_SAVE_PATH}\")\n",
    "torch.save(obj=model_0.state_dict(), # only saving the state_dict() only saves the models learned parameters\n",
    "           f=MODEL_SAVE_PATH) "
   ]
  },
  {
   "cell_type": "code",
   "execution_count": 73,
   "id": "4372f78f",
   "metadata": {},
   "outputs": [
    {
     "data": {
      "text/plain": [
       "<All keys matched successfully>"
      ]
     },
     "execution_count": 73,
     "metadata": {},
     "output_type": "execute_result"
    }
   ],
   "source": [
    "# Instantiate a new instance of our model (this will be instantiated with random weights)\n",
    "loaded_model_0 = LinearRegression()\n",
    "\n",
    "# Load the state_dict of our saved model (this will update the new instance of our model with trained weights)\n",
    "loaded_model_0.load_state_dict(torch.load(f=MODEL_SAVE_PATH))"
   ]
  },
  {
   "cell_type": "code",
   "execution_count": 74,
   "id": "c827400c",
   "metadata": {},
   "outputs": [
    {
     "data": {
      "text/plain": [
       "LinearRegression()"
      ]
     },
     "execution_count": 74,
     "metadata": {},
     "output_type": "execute_result"
    }
   ],
   "source": [
    "loaded_model_0.to(device)"
   ]
  },
  {
   "cell_type": "code",
   "execution_count": 75,
   "id": "48111701",
   "metadata": {},
   "outputs": [
    {
     "data": {
      "text/plain": [
       "Parameter containing:\n",
       "tensor([0.6997], device='cuda:0', requires_grad=True)"
      ]
     },
     "execution_count": 75,
     "metadata": {},
     "output_type": "execute_result"
    }
   ],
   "source": [
    "# check device of loaded model\n",
    "next(loaded_model_0.parameters())"
   ]
  },
  {
   "cell_type": "code",
   "execution_count": 76,
   "id": "a51f5530",
   "metadata": {},
   "outputs": [],
   "source": [
    "# 1. Put the loaded model into evaluation mode\n",
    "loaded_model_0.eval()\n",
    "\n",
    "# 2. Use the inference mode context manager to make predictions\n",
    "with torch.inference_mode():\n",
    "    loaded_model_preds = loaded_model_0(X_test) # perform a forward pass on the test data with the loaded model"
   ]
  },
  {
   "cell_type": "code",
   "execution_count": 77,
   "id": "c16a2387",
   "metadata": {},
   "outputs": [
    {
     "data": {
      "text/plain": [
       "tensor([[True],\n",
       "        [True],\n",
       "        [True],\n",
       "        [True],\n",
       "        [True],\n",
       "        [True],\n",
       "        [True],\n",
       "        [True],\n",
       "        [True],\n",
       "        [True],\n",
       "        [True],\n",
       "        [True],\n",
       "        [True],\n",
       "        [True],\n",
       "        [True],\n",
       "        [True],\n",
       "        [True],\n",
       "        [True],\n",
       "        [True],\n",
       "        [True]], device='cuda:0')"
      ]
     },
     "execution_count": 77,
     "metadata": {},
     "output_type": "execute_result"
    }
   ],
   "source": [
    "loaded_model_preds == t_pred"
   ]
  }
 ],
 "metadata": {
  "kernelspec": {
   "display_name": "Python 3 (ipykernel)",
   "language": "python",
   "name": "python3"
  },
  "language_info": {
   "codemirror_mode": {
    "name": "ipython",
    "version": 3
   },
   "file_extension": ".py",
   "mimetype": "text/x-python",
   "name": "python",
   "nbconvert_exporter": "python",
   "pygments_lexer": "ipython3",
   "version": "3.9.0"
  }
 },
 "nbformat": 4,
 "nbformat_minor": 5
}
