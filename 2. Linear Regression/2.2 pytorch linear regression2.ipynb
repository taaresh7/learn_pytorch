{
 "cells": [
  {
   "cell_type": "code",
   "execution_count": 53,
   "id": "2e884895",
   "metadata": {},
   "outputs": [
    {
     "data": {
      "text/plain": [
       "'1.13.1+cu117'"
      ]
     },
     "execution_count": 53,
     "metadata": {},
     "output_type": "execute_result"
    }
   ],
   "source": [
    "import torch \n",
    "import numpy as np \n",
    "import matplotlib.pyplot as plt\n",
    "from pathlib import Path\n",
    "from torch import nn\n",
    "plt.rcParams['figure.figsize'] = [5,3]\n",
    "torch.__version__  # cuda 11.7"
   ]
  },
  {
   "cell_type": "code",
   "execution_count": 54,
   "id": "0cc92b38",
   "metadata": {},
   "outputs": [
    {
     "data": {
      "text/plain": [
       "'cuda'"
      ]
     },
     "execution_count": 54,
     "metadata": {},
     "output_type": "execute_result"
    }
   ],
   "source": [
    "device = 'cuda' if torch.cuda.is_available() else 'cpu' \n",
    "device"
   ]
  },
  {
   "cell_type": "markdown",
   "id": "cf1c02e6",
   "metadata": {},
   "source": [
    "### Create Regression Dataset"
   ]
  },
  {
   "cell_type": "code",
   "execution_count": 55,
   "id": "e611afde",
   "metadata": {},
   "outputs": [
    {
     "data": {
      "text/plain": [
       "(torch.Size([100, 1]), torch.Size([100, 1]))"
      ]
     },
     "execution_count": 55,
     "metadata": {},
     "output_type": "execute_result"
    }
   ],
   "source": [
    "weight = 0.7\n",
    "bias = 0.3\n",
    "\n",
    "np.random.seed(42)\n",
    "torch.cuda.manual_seed(42)\n",
    "\n",
    "X = torch.rand(100).unsqueeze(dim = 1)\n",
    "\n",
    "# true relationship\n",
    "y = X*weight + bias + np.random.normal(scale=0.01,size = X.shape[0]).reshape(-1,1)\n",
    "\n",
    "X.shape, y.shape"
   ]
  },
  {
   "cell_type": "markdown",
   "id": "d1da2b5f",
   "metadata": {},
   "source": [
    "### Split into train and test data"
   ]
  },
  {
   "cell_type": "code",
   "execution_count": 56,
   "id": "8f5e682e",
   "metadata": {},
   "outputs": [],
   "source": [
    "train_size = 0.8 # 80-20 split\n",
    "\n",
    "np.random.seed(42)\n",
    "\n",
    "indices = np.arange(X.shape[0])  # create and shuffle indices\n",
    "np.random.shuffle(indices)\n",
    "\n",
    "# divide train and test index\n",
    "train_index, test_index =  indices[:int(len(indices)*0.8)] , indices[int(len(indices)*0.8):]\n",
    "\n",
    "# slice X and y \n",
    "X_train, X_test = X[train_index], X[test_index]\n",
    "y_train , y_test = y[train_index], y[test_index]"
   ]
  },
  {
   "cell_type": "code",
   "execution_count": 57,
   "id": "abf2b435",
   "metadata": {},
   "outputs": [
    {
     "data": {
      "text/plain": [
       "(torch.Size([80, 1]), torch.Size([80, 1]))"
      ]
     },
     "execution_count": 57,
     "metadata": {},
     "output_type": "execute_result"
    }
   ],
   "source": [
    "X_train.shape, y_train.shape"
   ]
  },
  {
   "cell_type": "code",
   "execution_count": 58,
   "id": "1a82e430",
   "metadata": {},
   "outputs": [
    {
     "data": {
      "image/png": "[encoded data removed]",
      "text/plain": [
       "<Figure size 500x300 with 1 Axes>"
      ]
     },
     "metadata": {},
     "output_type": "display_data"
    }
   ],
   "source": [
    "plt.scatter(X_train, y_train, label = 'Train', s= 15)\n",
    "plt.scatter(X_test, y_test, c='r', label = 'Test', s= 15)\n",
    "plt.xlabel('X train')\n",
    "plt.ylabel('y train')\n",
    "plt.title('Scatter plot')\n",
    "plt.legend()\n",
    "plt.show()"
   ]
  },
  {
   "cell_type": "markdown",
   "id": "6a43dc73",
   "metadata": {},
   "source": [
    "### Define model"
   ]
  },
  {
   "cell_type": "code",
   "execution_count": 59,
   "id": "b14be032",
   "metadata": {},
   "outputs": [],
   "source": [
    "# define model \n",
    "class LinearRegressionV2(nn.Module):\n",
    "    def __init__(self):\n",
    "        super().__init__()\n",
    "        self.linear_model = nn.Linear(in_features=1, out_features=1, device=device)\n",
    "    def forward(self, X: torch.Tensor):\n",
    "        return self.linear_model(X)"
   ]
  },
  {
   "cell_type": "code",
   "execution_count": 60,
   "id": "1477f0bc",
   "metadata": {},
   "outputs": [],
   "source": [
    "torch.manual_seed(42)\n",
    "model_0 = LinearRegressionV2()"
   ]
  },
  {
   "cell_type": "code",
   "execution_count": 61,
   "id": "9f842f15",
   "metadata": {},
   "outputs": [
    {
     "data": {
      "text/plain": [
       "OrderedDict([('linear_model.weight', tensor([[0.2259]], device='cuda:0')),\n",
       "             ('linear_model.bias', tensor([0.9754], device='cuda:0'))])"
      ]
     },
     "execution_count": 61,
     "metadata": {},
     "output_type": "execute_result"
    }
   ],
   "source": [
    "model_0.state_dict()"
   ]
  },
  {
   "cell_type": "markdown",
   "id": "b22726be",
   "metadata": {},
   "source": [
    "### Define Loss function and optimizer"
   ]
  },
  {
   "cell_type": "code",
   "execution_count": 62,
   "id": "839bab35",
   "metadata": {},
   "outputs": [],
   "source": [
    "optimizer = torch.optim.SGD(model_0.parameters(), lr=0.01)\n",
    "loss_fn = nn.L1Loss()"
   ]
  },
  {
   "cell_type": "markdown",
   "id": "67ed8d0a",
   "metadata": {},
   "source": [
    "### Train and Test loop"
   ]
  },
  {
   "cell_type": "code",
   "execution_count": 63,
   "id": "af5ea75a",
   "metadata": {},
   "outputs": [
    {
     "name": "stdout",
     "output_type": "stream",
     "text": [
      "0 tensor(0.4331, device='cuda:0', dtype=torch.float64, grad_fn=<MeanBackward0>)\n",
      "50 tensor(0.1553, device='cuda:0', dtype=torch.float64, grad_fn=<MeanBackward0>)\n",
      "100 tensor(0.1279, device='cuda:0', dtype=torch.float64, grad_fn=<MeanBackward0>)\n",
      "150 tensor(0.1020, device='cuda:0', dtype=torch.float64, grad_fn=<MeanBackward0>)\n",
      "200 tensor(0.0762, device='cuda:0', dtype=torch.float64, grad_fn=<MeanBackward0>)\n",
      "250 tensor(0.0504, device='cuda:0', dtype=torch.float64, grad_fn=<MeanBackward0>)\n",
      "300 tensor(0.0252, device='cuda:0', dtype=torch.float64, grad_fn=<MeanBackward0>)\n",
      "350 tensor(0.0073, device='cuda:0', dtype=torch.float64, grad_fn=<MeanBackward0>)\n"
     ]
    }
   ],
   "source": [
    "\n",
    "train_loss = []\n",
    "test_loss = []\n",
    "epochs = 400\n",
    "\n",
    "X_train = X_train.to(device)\n",
    "y_train = y_train.to(device)\n",
    "X_test = X_test.to(device)\n",
    "y_test = y_test.to(device)\n",
    "for epoch in range(epochs):\n",
    "    \n",
    "    model_0.train()\n",
    "    \n",
    "    pred = model_0(X_train)\n",
    "    \n",
    "    loss = loss_fn(y_train, pred)\n",
    "    \n",
    "    train_loss.append(loss.item())\n",
    "    optimizer.zero_grad()\n",
    "\n",
    "    loss.backward()\n",
    "    \n",
    "    optimizer.step()\n",
    "    \n",
    "    model_0.eval() \n",
    "    with torch.inference_mode():\n",
    "        pred_te = model_0(X_test)\n",
    "        loss_te = loss_fn(y_test, pred_te)\n",
    "        test_loss.append(loss_te.item())\n",
    "    \n",
    "        \n",
    "    if epoch%50 ==0:\n",
    "        print(epoch , loss)\n",
    "    "
   ]
  },
  {
   "cell_type": "code",
   "execution_count": 64,
   "id": "6766d6b7",
   "metadata": {},
   "outputs": [
    {
     "data": {
      "image/png": "[encoded data removed]",
      "text/plain": [
       "<Figure size 500x300 with 1 Axes>"
      ]
     },
     "metadata": {},
     "output_type": "display_data"
    }
   ],
   "source": [
    "plt.plot(list(range(epochs)), test_loss, label = 'test')\n",
    "plt.plot(list(range(epochs)), train_loss, label = 'train')\n",
    "plt.legend()\n",
    "plt.show()"
   ]
  },
  {
   "cell_type": "markdown",
   "id": "38cc834f",
   "metadata": {},
   "source": [
    "### Tuned weights"
   ]
  },
  {
   "cell_type": "code",
   "execution_count": 65,
   "id": "77d167c1",
   "metadata": {},
   "outputs": [
    {
     "data": {
      "text/plain": [
       "OrderedDict([('linear_model.weight', tensor([[0.6991]], device='cuda:0')),\n",
       "             ('linear_model.bias', tensor([0.3004], device='cuda:0'))])"
      ]
     },
     "execution_count": 65,
     "metadata": {},
     "output_type": "execute_result"
    }
   ],
   "source": [
    "model_0.state_dict()"
   ]
  },
  {
   "cell_type": "code",
   "execution_count": 66,
   "id": "e8757aca",
   "metadata": {},
   "outputs": [],
   "source": [
    "### Prediction"
   ]
  },
  {
   "cell_type": "code",
   "execution_count": 67,
   "id": "8d3c6b33",
   "metadata": {},
   "outputs": [],
   "source": [
    "model_0.eval()\n",
    "with torch.inference_mode():\n",
    "    t_pred = model_0(X_test.to(device))"
   ]
  },
  {
   "cell_type": "code",
   "execution_count": 68,
   "id": "df341ddd",
   "metadata": {},
   "outputs": [
    {
     "data": {
      "image/png": "[encoded data removed]",
      "text/plain": [
       "<Figure size 500x300 with 1 Axes>"
      ]
     },
     "metadata": {},
     "output_type": "display_data"
    }
   ],
   "source": [
    "plt.scatter(X_train.cpu(), y_train.cpu(), alpha = 0.8,c ='pink', label='True Train Labels')\n",
    "plt.scatter(X_test.cpu(), y_test.cpu(), alpha = 0.5,c ='r', label='True Test Labels')\n",
    "plt.scatter(X_test.cpu(), t_pred.detach().cpu(),c='b', alpha = 0.5, label = 'Predicted Test Labels')\n",
    "plt.legend()\n",
    "plt.xlabel('X')\n",
    "plt.ylabel('y')\n",
    "plt.title('Scatter Plot')\n",
    "plt.show()"
   ]
  },
  {
   "cell_type": "code",
   "execution_count": 69,
   "id": "5e3b3487",
   "metadata": {},
   "outputs": [
    {
     "name": "stdout",
     "output_type": "stream",
     "text": [
      "Saving model to: models\\model_0.pth\n"
     ]
    }
   ],
   "source": [
    "from pathlib import Path\n",
    "\n",
    "# 1. Create models directory \n",
    "MODEL_PATH = Path(\"models\")\n",
    "MODEL_PATH.mkdir(parents=True, exist_ok=True)\n",
    "\n",
    "# 2. Create model save path \n",
    "MODEL_NAME = \"model_0.pth\"\n",
    "MODEL_SAVE_PATH = MODEL_PATH / MODEL_NAME\n",
    "\n",
    "# 3. Save the model state dict \n",
    "print(f\"Saving model to: {MODEL_SAVE_PATH}\")\n",
    "torch.save(obj=model_0.state_dict(), # only saving the state_dict() only saves the models learned parameters\n",
    "           f=MODEL_SAVE_PATH) "
   ]
  },
  {
   "cell_type": "code",
   "execution_count": 70,
   "id": "4372f78f",
   "metadata": {},
   "outputs": [
    {
     "data": {
      "text/plain": [
       "<All keys matched successfully>"
      ]
     },
     "execution_count": 70,
     "metadata": {},
     "output_type": "execute_result"
    }
   ],
   "source": [
    "# Instantiate a new instance of our model (this will be instantiated with random weights)\n",
    "loaded_model_0 = LinearRegressionV2()\n",
    "\n",
    "# Load the state_dict of our saved model (this will update the new instance of our model with trained weights)\n",
    "loaded_model_0.load_state_dict(torch.load(f=MODEL_SAVE_PATH))"
   ]
  },
  {
   "cell_type": "code",
   "execution_count": 71,
   "id": "eabd3ec0",
   "metadata": {},
   "outputs": [],
   "source": [
    "# 1. Put the loaded model into evaluation mode\n",
    "loaded_model_0.eval()\n",
    "\n",
    "# 2. Use the inference mode context manager to make predictions\n",
    "with torch.inference_mode():\n",
    "    loaded_model_preds = loaded_model_0(X_test) # perform a forward pass on the test data with the loaded model"
   ]
  },
  {
   "cell_type": "code",
   "execution_count": 72,
   "id": "97c31a92",
   "metadata": {},
   "outputs": [
    {
     "data": {
      "text/plain": [
       "tensor([[True],\n",
       "        [True],\n",
       "        [True],\n",
       "        [True],\n",
       "        [True],\n",
       "        [True],\n",
       "        [True],\n",
       "        [True],\n",
       "        [True],\n",
       "        [True],\n",
       "        [True],\n",
       "        [True],\n",
       "        [True],\n",
       "        [True],\n",
       "        [True],\n",
       "        [True],\n",
       "        [True],\n",
       "        [True],\n",
       "        [True],\n",
       "        [True]], device='cuda:0')"
      ]
     },
     "execution_count": 72,
     "metadata": {},
     "output_type": "execute_result"
    }
   ],
   "source": [
    "loaded_model_preds == t_pred"
   ]
  }
 ],
 "metadata": {
  "kernelspec": {
   "display_name": "Python 3 (ipykernel)",
   "language": "python",
   "name": "python3"
  },
  "language_info": {
   "codemirror_mode": {
    "name": "ipython",
    "version": 3
   },
   "file_extension": ".py",
   "mimetype": "text/x-python",
   "name": "python",
   "nbconvert_exporter": "python",
   "pygments_lexer": "ipython3",
   "version": "3.9.0"
  }
 },
 "nbformat": 4,
 "nbformat_minor": 5
}
