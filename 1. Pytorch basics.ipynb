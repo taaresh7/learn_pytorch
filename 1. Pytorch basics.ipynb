{
 "cells": [
  {
   "cell_type": "code",
   "execution_count": 1,
   "id": "ea725248",
   "metadata": {},
   "outputs": [
    {
     "data": {
      "text/plain": [
       "'1.13.1+cu117'"
      ]
     },
     "execution_count": 1,
     "metadata": {},
     "output_type": "execute_result"
    }
   ],
   "source": [
    "import torch\n",
    "torch.__version__"
   ]
  },
  {
   "cell_type": "markdown",
   "id": "8a2114ec",
   "metadata": {},
   "source": [
    "### Basic Tensors: shape, dimension, data types"
   ]
  },
  {
   "cell_type": "code",
   "execution_count": 23,
   "id": "d8242c17",
   "metadata": {},
   "outputs": [
    {
     "data": {
      "text/plain": [
       "(tensor(4), torch.Size([]), 0, 4, torch.int64)"
      ]
     },
     "execution_count": 23,
     "metadata": {},
     "output_type": "execute_result"
    }
   ],
   "source": [
    "# scaler\n",
    "scaler = torch.tensor(4)\n",
    "scaler, scaler.shape, scaler.ndim, scaler.item() , scaler.dtype"
   ]
  },
  {
   "cell_type": "code",
   "execution_count": 3,
   "id": "639e6b4f",
   "metadata": {},
   "outputs": [
    {
     "data": {
      "text/plain": [
       "(tensor([7, 3]), torch.Size([2]), 1)"
      ]
     },
     "execution_count": 3,
     "metadata": {},
     "output_type": "execute_result"
    }
   ],
   "source": [
    "# vector \n",
    "vec = torch.tensor([7,3])\n",
    "vec, vec.shape, vec.ndim, # no vec.item() "
   ]
  },
  {
   "cell_type": "code",
   "execution_count": 4,
   "id": "9d587491",
   "metadata": {},
   "outputs": [
    {
     "data": {
      "text/plain": [
       "(tensor([[4, 6, 5]]), torch.Size([1, 3]), 2)"
      ]
     },
     "execution_count": 4,
     "metadata": {},
     "output_type": "execute_result"
    }
   ],
   "source": [
    "# Matrix\n",
    "MAT = torch.tensor([[4,6,5]])\n",
    "MAT, MAT.shape, MAT.ndim"
   ]
  },
  {
   "cell_type": "code",
   "execution_count": 5,
   "id": "77b14185",
   "metadata": {},
   "outputs": [
    {
     "data": {
      "text/plain": [
       "(tensor([[[1, 2, 4],\n",
       "          [8, 3, 6],\n",
       "          [2, 9, 7]]]),\n",
       " torch.Size([1, 3, 3]),\n",
       " 3)"
      ]
     },
     "execution_count": 5,
     "metadata": {},
     "output_type": "execute_result"
    }
   ],
   "source": [
    "# Tensor\n",
    "TENSOR = torch.tensor([[[1, 2, 4],\n",
    "                        [8, 3, 6],\n",
    "                        [2, 9, 7]]])\n",
    "\n",
    "TENSOR, TENSOR.shape, TENSOR.ndim"
   ]
  },
  {
   "cell_type": "code",
   "execution_count": 10,
   "id": "d043ef85",
   "metadata": {},
   "outputs": [
    {
     "data": {
      "text/plain": [
       "(tensor([[0.4454, 0.2734, 0.8970, 0.0972, 0.9231],\n",
       "         [0.0259, 0.7488, 0.2173, 0.7590, 0.9923]]),\n",
       " torch.float32,\n",
       " 2,\n",
       " torch.Size([2, 5]))"
      ]
     },
     "execution_count": 10,
     "metadata": {},
     "output_type": "execute_result"
    }
   ],
   "source": [
    "# random tensor \n",
    "\n",
    "v1 = torch.rand([2,5])\n",
    "v1, v1.dtype, v1.ndim , v1.shape"
   ]
  },
  {
   "cell_type": "code",
   "execution_count": 13,
   "id": "74c69d32",
   "metadata": {},
   "outputs": [
    {
     "data": {
      "text/plain": [
       "(tensor([[0., 0., 0., 0., 0.]]), tensor([[1., 1., 1., 1., 1.]]))"
      ]
     },
     "execution_count": 13,
     "metadata": {},
     "output_type": "execute_result"
    }
   ],
   "source": [
    "torch.zeros([1,5]) , torch.ones([1,5])  "
   ]
  },
  {
   "cell_type": "code",
   "execution_count": 15,
   "id": "1b4cf7a8",
   "metadata": {},
   "outputs": [
    {
     "data": {
      "text/plain": [
       "tensor([[0., 0., 0., 0., 0.],\n",
       "        [0., 0., 0., 0., 0.]])"
      ]
     },
     "execution_count": 15,
     "metadata": {},
     "output_type": "execute_result"
    }
   ],
   "source": [
    "torch.zeros_like(v1) # similarly ones_like"
   ]
  },
  {
   "cell_type": "code",
   "execution_count": 21,
   "id": "0dc01a4b",
   "metadata": {},
   "outputs": [
    {
     "data": {
      "text/plain": [
       "tensor([ 5,  7,  9, 11, 13])"
      ]
     },
     "execution_count": 21,
     "metadata": {},
     "output_type": "execute_result"
    }
   ],
   "source": [
    "torch.arange(5,15,2)"
   ]
  },
  {
   "cell_type": "code",
   "execution_count": 33,
   "id": "b2f23a77",
   "metadata": {},
   "outputs": [
    {
     "data": {
      "text/plain": [
       "tensor([1., 8.], dtype=torch.float16)"
      ]
     },
     "execution_count": 33,
     "metadata": {},
     "output_type": "execute_result"
    }
   ],
   "source": [
    "torch.tensor([1.,8.], dtype = torch.float16) "
   ]
  },
  {
   "cell_type": "code",
   "execution_count": 39,
   "id": "b37cfd1c",
   "metadata": {},
   "outputs": [
    {
     "data": {
      "text/plain": [
       "(tensor([[0.4454, 0.2734, 0.8970, 0.0972, 0.9231],\n",
       "         [0.0259, 0.7488, 0.2173, 0.7590, 0.9923]]),\n",
       " tensor([[5.4454, 5.2734, 5.8970, 5.0972, 5.9231],\n",
       "         [5.0259, 5.7488, 5.2173, 5.7590, 5.9923]]))"
      ]
     },
     "execution_count": 39,
     "metadata": {},
     "output_type": "execute_result"
    }
   ],
   "source": [
    "### Basic operations\n",
    "v1, v1 + 5"
   ]
  },
  {
   "cell_type": "code",
   "execution_count": 40,
   "id": "93e0d24e",
   "metadata": {},
   "outputs": [
    {
     "data": {
      "text/plain": [
       "tensor([[2.2272, 1.3668, 4.4851, 0.4858, 4.6153],\n",
       "        [0.1295, 3.7442, 1.0866, 3.7950, 4.9617]])"
      ]
     },
     "execution_count": 40,
     "metadata": {},
     "output_type": "execute_result"
    }
   ],
   "source": [
    "v1*5"
   ]
  },
  {
   "cell_type": "markdown",
   "id": "ce0d08c1",
   "metadata": {},
   "source": [
    "### Matrix Multiplication"
   ]
  },
  {
   "cell_type": "code",
   "execution_count": 52,
   "id": "375c1bea",
   "metadata": {},
   "outputs": [
    {
     "data": {
      "text/plain": [
       "(tensor([[0.5003, 0.8525, 0.4364],\n",
       "         [0.4679, 0.7766, 0.3869],\n",
       "         [0.5438, 0.9989, 0.5488]]),\n",
       " tensor([[0.5003, 0.8525, 0.4364],\n",
       "         [0.4679, 0.7766, 0.3869],\n",
       "         [0.5438, 0.9989, 0.5488]]),\n",
       " tensor([[0.5003, 0.8525, 0.4364],\n",
       "         [0.4679, 0.7766, 0.3869],\n",
       "         [0.5438, 0.9989, 0.5488]]))"
      ]
     },
     "execution_count": 52,
     "metadata": {},
     "output_type": "execute_result"
    }
   ],
   "source": [
    "t1 = torch.rand([3,2])\n",
    "t2 = torch.rand([3,2])\n",
    "\n",
    "t1@t2.T , torch.matmul(t1,t2.T), torch.mm(t1, t2.T)"
   ]
  },
  {
   "cell_type": "markdown",
   "id": "3fda5279",
   "metadata": {},
   "source": [
    "### Min, max"
   ]
  },
  {
   "cell_type": "code",
   "execution_count": 76,
   "id": "9751d99a",
   "metadata": {},
   "outputs": [
    {
     "data": {
      "text/plain": [
       "(tensor(5), tensor(13))"
      ]
     },
     "execution_count": 76,
     "metadata": {},
     "output_type": "execute_result"
    }
   ],
   "source": [
    "t1 = torch.arange(5,15,2)\n",
    "t1.min(), t1.max()"
   ]
  },
  {
   "cell_type": "code",
   "execution_count": 78,
   "id": "a1539727",
   "metadata": {},
   "outputs": [
    {
     "data": {
      "text/plain": [
       "(tensor(0), tensor(4))"
      ]
     },
     "execution_count": 78,
     "metadata": {},
     "output_type": "execute_result"
    }
   ],
   "source": [
    "t2 = torch.tensor([[1,5,6], [12,0,6]])\n",
    "t2.min() , t2.argmin()"
   ]
  },
  {
   "cell_type": "code",
   "execution_count": 100,
   "id": "14e54c6d",
   "metadata": {},
   "outputs": [
    {
     "name": "stdout",
     "output_type": "stream",
     "text": [
      "tensor([[-0.6096, -0.4601],\n",
      "        [ 1.5846, -0.2892],\n",
      "        [-0.7289,  1.5529]])\n"
     ]
    },
    {
     "data": {
      "text/plain": [
       "(tensor(4),\n",
       " tensor([0, 1, 0]),\n",
       " tensor([[0],\n",
       "         [1],\n",
       "         [0]]))"
      ]
     },
     "execution_count": 100,
     "metadata": {},
     "output_type": "execute_result"
    }
   ],
   "source": [
    "a = torch.randn(3, 2)\n",
    "print(a)\n",
    "torch.argmin(a), torch.argmin(a, dim=1) , torch.argmin(a, dim=1, keepdim=True)"
   ]
  },
  {
   "cell_type": "markdown",
   "id": "d07df8d1",
   "metadata": {},
   "source": [
    "### Change dtype \n"
   ]
  },
  {
   "cell_type": "code",
   "execution_count": 104,
   "id": "423ff873",
   "metadata": {},
   "outputs": [
    {
     "data": {
      "text/plain": [
       "tensor([ 5.,  7.,  9., 11., 13.], dtype=torch.float16)"
      ]
     },
     "execution_count": 104,
     "metadata": {},
     "output_type": "execute_result"
    }
   ],
   "source": [
    "# Create a float16 tensor\n",
    "tensor_float16 = t1.type(torch.float16)\n",
    "tensor_float16"
   ]
  },
  {
   "cell_type": "markdown",
   "id": "30ddf23a",
   "metadata": {},
   "source": [
    "### reshape, permute, squeeze"
   ]
  },
  {
   "cell_type": "code",
   "execution_count": 114,
   "id": "bc9e29cb",
   "metadata": {},
   "outputs": [
    {
     "data": {
      "text/plain": [
       "(tensor([0, 1, 2, 3, 4, 5, 6, 7]),\n",
       " tensor([[0, 1, 2, 3],\n",
       "         [4, 5, 6, 7]]))"
      ]
     },
     "execution_count": 114,
     "metadata": {},
     "output_type": "execute_result"
    }
   ],
   "source": [
    "t1 = torch.arange(8)\n",
    "t1, t1.reshape([2,4])"
   ]
  },
  {
   "cell_type": "code",
   "execution_count": 128,
   "id": "090e63a1",
   "metadata": {},
   "outputs": [
    {
     "data": {
      "text/plain": [
       "tensor([[0, 1, 2, 3],\n",
       "        [4, 5, 6, 7]])"
      ]
     },
     "execution_count": 128,
     "metadata": {},
     "output_type": "execute_result"
    }
   ],
   "source": [
    "t1_view = t1.view([2,4]) # same memory used \n",
    "t1_view"
   ]
  },
  {
   "cell_type": "code",
   "execution_count": 129,
   "id": "d58cfa59",
   "metadata": {},
   "outputs": [],
   "source": [
    "t1_view[1,2] = 100"
   ]
  },
  {
   "cell_type": "code",
   "execution_count": 131,
   "id": "0d732d82",
   "metadata": {},
   "outputs": [
    {
     "data": {
      "text/plain": [
       "(tensor([[  0,   1,   2,   3],\n",
       "         [  4,   5, 100,   7]]),\n",
       " tensor([  0,   1,   2,   3,   4,   5, 100,   7]))"
      ]
     },
     "execution_count": 131,
     "metadata": {},
     "output_type": "execute_result"
    }
   ],
   "source": [
    "t1_view, t1"
   ]
  },
  {
   "cell_type": "code",
   "execution_count": 134,
   "id": "2b8823a0",
   "metadata": {},
   "outputs": [
    {
     "data": {
      "text/plain": [
       "(tensor([[  0,   1,   2,   3,   4,   5, 100,   7]]),\n",
       " tensor([[  0],\n",
       "         [  1],\n",
       "         [  2],\n",
       "         [  3],\n",
       "         [  4],\n",
       "         [  5],\n",
       "         [100],\n",
       "         [  7]]))"
      ]
     },
     "execution_count": 134,
     "metadata": {},
     "output_type": "execute_result"
    }
   ],
   "source": [
    "t1.unsqueeze(0),t1.unsqueeze(1)"
   ]
  },
  {
   "cell_type": "code",
   "execution_count": 137,
   "id": "910755db",
   "metadata": {},
   "outputs": [
    {
     "data": {
      "text/plain": [
       "(tensor([[[[0.2747, 0.1120, 0.7107],\n",
       "           [0.2758, 0.1027, 0.8623]]]]),\n",
       " torch.Size([1, 1, 2, 3]),\n",
       " 4)"
      ]
     },
     "execution_count": 137,
     "metadata": {},
     "output_type": "execute_result"
    }
   ],
   "source": [
    "t2 = torch.rand([1,1,2,3])\n",
    "t2, t2.shape, t2.ndim"
   ]
  },
  {
   "cell_type": "code",
   "execution_count": 139,
   "id": "90aed233",
   "metadata": {},
   "outputs": [
    {
     "data": {
      "text/plain": [
       "(tensor([[0.2747, 0.1120, 0.7107],\n",
       "         [0.2758, 0.1027, 0.8623]]),\n",
       " torch.Size([2, 3]))"
      ]
     },
     "execution_count": 139,
     "metadata": {},
     "output_type": "execute_result"
    }
   ],
   "source": [
    "t2.squeeze(), t2.squeeze().shape"
   ]
  },
  {
   "cell_type": "markdown",
   "id": "962a6e6f",
   "metadata": {},
   "source": [
    "### Permute"
   ]
  },
  {
   "cell_type": "code",
   "execution_count": 144,
   "id": "a8637c28",
   "metadata": {},
   "outputs": [
    {
     "data": {
      "text/plain": [
       "torch.Size([2, 3])"
      ]
     },
     "execution_count": 144,
     "metadata": {},
     "output_type": "execute_result"
    }
   ],
   "source": [
    "t3 = t2.squeeze()\n",
    "t3.shape"
   ]
  },
  {
   "cell_type": "code",
   "execution_count": 148,
   "id": "239874b7",
   "metadata": {},
   "outputs": [
    {
     "data": {
      "text/plain": [
       "tensor([[0.2747, 0.1120, 0.7107],\n",
       "        [0.2758, 0.1027, 0.8623]])"
      ]
     },
     "execution_count": 148,
     "metadata": {},
     "output_type": "execute_result"
    }
   ],
   "source": [
    "t3"
   ]
  },
  {
   "cell_type": "code",
   "execution_count": 146,
   "id": "8fe9073e",
   "metadata": {},
   "outputs": [
    {
     "data": {
      "text/plain": [
       "tensor([[0.2747, 0.2758],\n",
       "        [0.1120, 0.1027],\n",
       "        [0.7107, 0.8623]])"
      ]
     },
     "execution_count": 146,
     "metadata": {},
     "output_type": "execute_result"
    }
   ],
   "source": [
    "t3.permute([1,0])"
   ]
  },
  {
   "cell_type": "markdown",
   "id": "471b5cb1",
   "metadata": {},
   "source": [
    "### Indexing and Slicing "
   ]
  },
  {
   "cell_type": "code",
   "execution_count": 157,
   "id": "94dd06c7",
   "metadata": {},
   "outputs": [
    {
     "data": {
      "text/plain": [
       "(tensor(0.1120), tensor(0.8623), tensor([0.1120, 0.1027]))"
      ]
     },
     "execution_count": 157,
     "metadata": {},
     "output_type": "execute_result"
    }
   ],
   "source": [
    "t3[0,1] , t3[1,2], t3[:, 1]"
   ]
  },
  {
   "cell_type": "markdown",
   "id": "4c0a6576",
   "metadata": {},
   "source": [
    "### Numpy and torch"
   ]
  },
  {
   "cell_type": "code",
   "execution_count": 167,
   "id": "a1071617",
   "metadata": {},
   "outputs": [
    {
     "data": {
      "text/plain": [
       "tensor([ 2,  6,  5, 74], dtype=torch.int32)"
      ]
     },
     "execution_count": 167,
     "metadata": {},
     "output_type": "execute_result"
    }
   ],
   "source": [
    "import numpy as np\n",
    "torch.from_numpy(np.array([2,6,5,74,]))"
   ]
  },
  {
   "cell_type": "code",
   "execution_count": 168,
   "id": "ec1951e0",
   "metadata": {},
   "outputs": [
    {
     "data": {
      "text/plain": [
       "tensor([ 2.,  6.,  5., 74.])"
      ]
     },
     "execution_count": 168,
     "metadata": {},
     "output_type": "execute_result"
    }
   ],
   "source": [
    "torch.from_numpy(np.array([2,6,5,74,])).type(torch.float)"
   ]
  },
  {
   "cell_type": "code",
   "execution_count": 173,
   "id": "13814c5c",
   "metadata": {},
   "outputs": [
    {
     "data": {
      "text/plain": [
       "array([[0.27469796, 0.11197537, 0.7107383 ],\n",
       "       [0.2757731 , 0.10265452, 0.8622501 ]], dtype=float32)"
      ]
     },
     "execution_count": 173,
     "metadata": {},
     "output_type": "execute_result"
    }
   ],
   "source": [
    "t3.numpy()"
   ]
  },
  {
   "cell_type": "markdown",
   "id": "0c8e8f68",
   "metadata": {},
   "source": [
    "### Random seed and cuda"
   ]
  },
  {
   "cell_type": "code",
   "execution_count": 189,
   "id": "c5529122",
   "metadata": {},
   "outputs": [
    {
     "data": {
      "text/plain": [
       "tensor([[0.8823, 0.9150]])"
      ]
     },
     "execution_count": 189,
     "metadata": {},
     "output_type": "execute_result"
    }
   ],
   "source": [
    "torch.manual_seed(42)\n",
    "\n",
    "torch.rand([1,2])  # rerun it we get the same tensor"
   ]
  },
  {
   "cell_type": "code",
   "execution_count": 193,
   "id": "c9e36be8",
   "metadata": {},
   "outputs": [
    {
     "data": {
      "text/plain": [
       "device(type='cpu')"
      ]
     },
     "execution_count": 193,
     "metadata": {},
     "output_type": "execute_result"
    }
   ],
   "source": [
    "t1.device"
   ]
  },
  {
   "cell_type": "code",
   "execution_count": 196,
   "id": "fb75a4ad",
   "metadata": {},
   "outputs": [
    {
     "data": {
      "text/plain": [
       "tensor([  0,   1,   2,   3,   4,   5, 100,   7], device='cuda:0')"
      ]
     },
     "execution_count": 196,
     "metadata": {},
     "output_type": "execute_result"
    }
   ],
   "source": [
    "t2 = t1.to('cuda')\n",
    "t2"
   ]
  },
  {
   "cell_type": "code",
   "execution_count": 197,
   "id": "268cfbe9",
   "metadata": {},
   "outputs": [
    {
     "data": {
      "text/plain": [
       "tensor([  0,   1,   2,   3,   4,   5, 100,   7])"
      ]
     },
     "execution_count": 197,
     "metadata": {},
     "output_type": "execute_result"
    }
   ],
   "source": [
    "t2.cpu()"
   ]
  },
  {
   "cell_type": "code",
   "execution_count": 198,
   "id": "2a72f221",
   "metadata": {},
   "outputs": [
    {
     "data": {
      "text/plain": [
       "tensor([  0,   1,   2,   3,   4,   5, 100,   7])"
      ]
     },
     "execution_count": 198,
     "metadata": {},
     "output_type": "execute_result"
    }
   ],
   "source": [
    "t2.to('cpu')"
   ]
  }
 ],
 "metadata": {
  "kernelspec": {
   "display_name": "Python 3 (ipykernel)",
   "language": "python",
   "name": "python3"
  },
  "language_info": {
   "codemirror_mode": {
    "name": "ipython",
    "version": 3
   },
   "file_extension": ".py",
   "mimetype": "text/x-python",
   "name": "python",
   "nbconvert_exporter": "python",
   "pygments_lexer": "ipython3",
   "version": "3.9.0"
  }
 },
 "nbformat": 4,
 "nbformat_minor": 5
}
